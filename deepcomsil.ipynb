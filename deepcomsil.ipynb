{
  "nbformat": 4,
  "nbformat_minor": 0,
  "metadata": {
    "colab": {
      "provenance": [],
      "mount_file_id": "1QAPPkKmuwhgK7o_WmlMNZBX6Bivp4kJt",
      "authorship_tag": "ABX9TyPe5niuAS+kSSnhHGy71dfJ",
      "include_colab_link": true
    },
    "kernelspec": {
      "name": "python3",
      "display_name": "Python 3"
    },
    "language_info": {
      "name": "python"
    }
  },
  "cells": [
    {
      "cell_type": "markdown",
      "metadata": {
        "id": "view-in-github",
        "colab_type": "text"
      },
      "source": [
        "<a href=\"https://colab.research.google.com/github/jun673012/Algorithm/blob/main/deepcomsil.ipynb\" target=\"_parent\"><img src=\"https://colab.research.google.com/assets/colab-badge.svg\" alt=\"Open In Colab\"/></a>"
      ]
    },
    {
      "cell_type": "code",
      "execution_count": 45,
      "metadata": {
        "id": "zBb_f4wzo3pd"
      },
      "outputs": [],
      "source": [
        "from tensorflow import keras\n",
        "from keras.layers import Dense, Dropout\n",
        "from keras.models import Sequential\n",
        "from keras.optimizers import Adam\n",
        "import numpy as np"
      ]
    },
    {
      "cell_type": "code",
      "source": [
        "Data_set = np.loadtxt('https://raw.githubusercontent.com/dhshinEddie/DeepKMOU/main/W3/ThoraricSurgery3.csv', delimiter=\",\")"
      ],
      "metadata": {
        "id": "NKUYTg4_qERq"
      },
      "execution_count": 46,
      "outputs": []
    },
    {
      "cell_type": "code",
      "source": [
        "X = Data_set[:,0:16]"
      ],
      "metadata": {
        "id": "lrIyYppAslXb"
      },
      "execution_count": 47,
      "outputs": []
    },
    {
      "cell_type": "code",
      "source": [
        "y = Data_set[:,16]"
      ],
      "metadata": {
        "id": "z_yr7YqXqrga"
      },
      "execution_count": 48,
      "outputs": []
    },
    {
      "cell_type": "code",
      "source": [
        "model = Sequential()\n",
        "model.add(Dense(30, input_dim=16, activation='relu'))\n",
        "model.add(Dense(1, activation='sigmoid'))"
      ],
      "metadata": {
        "id": "TGEqQ6lNqpCK"
      },
      "execution_count": 49,
      "outputs": []
    },
    {
      "cell_type": "code",
      "source": [
        "model.compile(loss='binary_crossentropy', optimizer='adam', metrics=['accuracy'])\n",
        "history = model.fit(X, y, epochs=5, batch_size=16)"
      ],
      "metadata": {
        "colab": {
          "base_uri": "https://localhost:8080/"
        },
        "id": "VFB3N-anqlRL",
        "outputId": "3f5412ae-8df1-4bea-fc6d-5a1fc773087f"
      },
      "execution_count": 50,
      "outputs": [
        {
          "output_type": "stream",
          "name": "stdout",
          "text": [
            "Epoch 1/5\n",
            "30/30 [==============================] - 1s 1ms/step - loss: 2.2433 - accuracy: 0.4851\n",
            "Epoch 2/5\n",
            "30/30 [==============================] - 0s 1ms/step - loss: 0.6071 - accuracy: 0.8340\n",
            "Epoch 3/5\n",
            "30/30 [==============================] - 0s 1ms/step - loss: 0.4610 - accuracy: 0.8468\n",
            "Epoch 4/5\n",
            "30/30 [==============================] - 0s 1ms/step - loss: 0.4547 - accuracy: 0.8511\n",
            "Epoch 5/5\n",
            "30/30 [==============================] - 0s 1ms/step - loss: 0.4462 - accuracy: 0.8511\n"
          ]
        }
      ]
    },
    {
      "cell_type": "code",
      "source": [],
      "metadata": {
        "id": "tqKYEJmSqjZz"
      },
      "execution_count": null,
      "outputs": []
    }
  ]
}